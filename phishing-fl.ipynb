{
 "cells": [
  {
   "cell_type": "code",
   "execution_count": 1,
   "id": "48647dfb",
   "metadata": {
    "_cell_guid": "b1076dfc-b9ad-4769-8c92-a6c4dae69d19",
    "_uuid": "8f2839f25d086af736a60e9eeb907d3b93b6e0e5",
    "execution": {
     "iopub.execute_input": "2023-03-02T07:36:25.041264Z",
     "iopub.status.busy": "2023-03-02T07:36:25.040785Z",
     "iopub.status.idle": "2023-03-02T07:36:25.070821Z",
     "shell.execute_reply": "2023-03-02T07:36:25.069818Z"
    },
    "papermill": {
     "duration": 0.043681,
     "end_time": "2023-03-02T07:36:25.074187",
     "exception": false,
     "start_time": "2023-03-02T07:36:25.030506",
     "status": "completed"
    },
    "tags": []
   },
   "outputs": [
    {
     "name": "stdout",
     "output_type": "stream",
     "text": [
      "/kaggle/input/phishing-data/combined_dataset.csv\n",
      "/kaggle/input/phishing/Phishing_Legitimate_full.csv\n"
     ]
    }
   ],
   "source": [
    "# This Python 3 environment comes with many helpful analytics libraries installed\n",
    "# It is defined by the kaggle/python Docker image: https://github.com/kaggle/docker-python\n",
    "# For example, here's several helpful packages to load\n",
    "\n",
    "import numpy as np # linear algebra\n",
    "import pandas as pd # data processing, CSV file I/O (e.g. pd.read_csv)\n",
    "\n",
    "# Input data files are available in the read-only \"../input/\" directory\n",
    "# For example, running this (by clicking run or pressing Shift+Enter) will list all files under the input directory\n",
    "\n",
    "import os\n",
    "for dirname, _, filenames in os.walk('/kaggle/input'):\n",
    "    for filename in filenames:\n",
    "        print(os.path.join(dirname, filename))\n",
    "\n",
    "# You can write up to 20GB to the current directory (/kaggle/working/) that gets preserved as output when you create a version using \"Save & Run All\" \n",
    "# You can also write temporary files to /kaggle/temp/, but they won't be saved outside of the current session"
   ]
  },
  {
   "cell_type": "markdown",
   "id": "ac107939",
   "metadata": {
    "papermill": {
     "duration": 0.004398,
     "end_time": "2023-03-02T07:36:25.084713",
     "exception": false,
     "start_time": "2023-03-02T07:36:25.080315",
     "status": "completed"
    },
    "tags": []
   },
   "source": [
    "## Data collection and Pre-Process"
   ]
  },
  {
   "cell_type": "code",
   "execution_count": 2,
   "id": "949ee155",
   "metadata": {
    "execution": {
     "iopub.execute_input": "2023-03-02T07:36:25.096441Z",
     "iopub.status.busy": "2023-03-02T07:36:25.095532Z",
     "iopub.status.idle": "2023-03-02T07:38:55.570532Z",
     "shell.execute_reply": "2023-03-02T07:38:55.568752Z"
    },
    "papermill": {
     "duration": 150.48312,
     "end_time": "2023-03-02T07:38:55.572639",
     "exception": true,
     "start_time": "2023-03-02T07:36:25.089519",
     "status": "failed"
    },
    "tags": []
   },
   "outputs": [
    {
     "name": "stdout",
     "output_type": "stream",
     "text": [
      "/bin/bash: /opt/conda/lib/libtinfo.so.6: no version information available (required by /bin/bash)\r\n",
      "\u001b[33mWARNING: Retrying (Retry(total=4, connect=None, read=None, redirect=None, status=None)) after connection broken by 'NewConnectionError('<pip._vendor.urllib3.connection.HTTPSConnection object at 0x7fd2c52e24d0>: Failed to establish a new connection: [Errno -3] Temporary failure in name resolution')': /simple/tensorflow-federated/\u001b[0m\u001b[33m\r\n",
      "\u001b[0m\u001b[33mWARNING: Retrying (Retry(total=3, connect=None, read=None, redirect=None, status=None)) after connection broken by 'NewConnectionError('<pip._vendor.urllib3.connection.HTTPSConnection object at 0x7fd2c52e2a10>: Failed to establish a new connection: [Errno -3] Temporary failure in name resolution')': /simple/tensorflow-federated/\u001b[0m\u001b[33m\r\n",
      "\u001b[0m\u001b[33mWARNING: Retrying (Retry(total=2, connect=None, read=None, redirect=None, status=None)) after connection broken by 'NewConnectionError('<pip._vendor.urllib3.connection.HTTPSConnection object at 0x7fd2c52e2bd0>: Failed to establish a new connection: [Errno -3] Temporary failure in name resolution')': /simple/tensorflow-federated/\u001b[0m\u001b[33m\r\n",
      "\u001b[0m\u001b[33mWARNING: Retrying (Retry(total=1, connect=None, read=None, redirect=None, status=None)) after connection broken by 'NewConnectionError('<pip._vendor.urllib3.connection.HTTPSConnection object at 0x7fd2c52ee0d0>: Failed to establish a new connection: [Errno -3] Temporary failure in name resolution')': /simple/tensorflow-federated/\u001b[0m\u001b[33m\r\n",
      "\u001b[0m\u001b[33mWARNING: Retrying (Retry(total=0, connect=None, read=None, redirect=None, status=None)) after connection broken by 'NewConnectionError('<pip._vendor.urllib3.connection.HTTPSConnection object at 0x7fd2c52ee290>: Failed to establish a new connection: [Errno -3] Temporary failure in name resolution')': /simple/tensorflow-federated/\u001b[0m\u001b[33m\r\n",
      "\u001b[0m\u001b[31mERROR: Could not find a version that satisfies the requirement tensorflow-federated (from versions: none)\u001b[0m\u001b[31m\r\n",
      "\u001b[0m\u001b[31mERROR: No matching distribution found for tensorflow-federated\u001b[0m\u001b[31m\r\n",
      "\u001b[0m\u001b[33mWARNING: There was an error checking the latest version of pip.\u001b[0m\u001b[33m\r\n",
      "\u001b[0m"
     ]
    },
    {
     "ename": "ModuleNotFoundError",
     "evalue": "No module named 'tensorflow_federated'",
     "output_type": "error",
     "traceback": [
      "\u001b[0;31m---------------------------------------------------------------------------\u001b[0m",
      "\u001b[0;31mModuleNotFoundError\u001b[0m                       Traceback (most recent call last)",
      "\u001b[0;32m/tmp/ipykernel_21/2338075077.py\u001b[0m in \u001b[0;36m<module>\u001b[0;34m\u001b[0m\n\u001b[1;32m      1\u001b[0m \u001b[0mget_ipython\u001b[0m\u001b[0;34m(\u001b[0m\u001b[0;34m)\u001b[0m\u001b[0;34m.\u001b[0m\u001b[0msystem\u001b[0m\u001b[0;34m(\u001b[0m\u001b[0;34m'pip install --upgrade tensorflow-federated'\u001b[0m\u001b[0;34m)\u001b[0m\u001b[0;34m\u001b[0m\u001b[0;34m\u001b[0m\u001b[0m\n\u001b[0;32m----> 2\u001b[0;31m \u001b[0;32mimport\u001b[0m \u001b[0mtensorflow_federated\u001b[0m \u001b[0;32mas\u001b[0m \u001b[0mtff\u001b[0m\u001b[0;34m\u001b[0m\u001b[0;34m\u001b[0m\u001b[0m\n\u001b[0m\u001b[1;32m      3\u001b[0m \u001b[0mget_ipython\u001b[0m\u001b[0;34m(\u001b[0m\u001b[0;34m)\u001b[0m\u001b[0;34m.\u001b[0m\u001b[0msystem\u001b[0m\u001b[0;34m(\u001b[0m\u001b[0;34m'pip install tensorflow_federated'\u001b[0m\u001b[0;34m)\u001b[0m\u001b[0;34m\u001b[0m\u001b[0;34m\u001b[0m\u001b[0m\n\u001b[1;32m      4\u001b[0m \u001b[0;32mfrom\u001b[0m \u001b[0mtensorflow_federated\u001b[0m \u001b[0;32mimport\u001b[0m \u001b[0mpython\u001b[0m \u001b[0;32mas\u001b[0m \u001b[0mtff\u001b[0m\u001b[0;34m\u001b[0m\u001b[0;34m\u001b[0m\u001b[0m\n\u001b[1;32m      5\u001b[0m \u001b[0;34m\u001b[0m\u001b[0m\n",
      "\u001b[0;31mModuleNotFoundError\u001b[0m: No module named 'tensorflow_federated'"
     ]
    }
   ],
   "source": [
    "!pip install --upgrade tensorflow-federated\n",
    "import tensorflow_federated as tff\n",
    "!pip install tensorflow_federated\n",
    "from tensorflow_federated import python as tff\n",
    "\n"
   ]
  },
  {
   "cell_type": "code",
   "execution_count": null,
   "id": "35bf96b3",
   "metadata": {
    "execution": {
     "iopub.status.busy": "2023-03-02T05:20:58.657456Z",
     "iopub.status.idle": "2023-03-02T05:20:58.657792Z",
     "shell.execute_reply": "2023-03-02T05:20:58.657652Z",
     "shell.execute_reply.started": "2023-03-02T05:20:58.657635Z"
    },
    "papermill": {
     "duration": null,
     "end_time": null,
     "exception": null,
     "start_time": null,
     "status": "pending"
    },
    "tags": []
   },
   "outputs": [],
   "source": [
    " # create and train federated learning models\n",
    "    \n",
    "import tensorflow as tf\n",
    "import tensorflow_federated as tff\n",
    "\n",
    "# Define the client data loading function\n",
    "def load_data_for_client(client_id):\n",
    "  # Load the data for the specified client\n",
    "  data = load_data_from_file(client_id + 'phishing.csv')\n",
    "\n",
    "  # Preprocess the data\n",
    "  data = preprocess_data(data)\n",
    "\n",
    "  # Split the data into features and labels\n",
    "  features = data[:, :-1]\n",
    "  labels = data[:, -1]\n",
    "\n",
    "  # Create a TensorFlow dataset from the features and labels\n",
    "  dataset = tf.data.Dataset.from_tensor_slices({'x': features, 'y': labels})\n",
    "\n",
    "  return dataset"
   ]
  },
  {
   "cell_type": "code",
   "execution_count": null,
   "id": "30c27ef0",
   "metadata": {
    "execution": {
     "iopub.status.busy": "2023-03-02T05:20:58.659250Z",
     "iopub.status.idle": "2023-03-02T05:20:58.659603Z",
     "shell.execute_reply": "2023-03-02T05:20:58.659452Z",
     "shell.execute_reply.started": "2023-03-02T05:20:58.659437Z"
    },
    "papermill": {
     "duration": null,
     "end_time": null,
     "exception": null,
     "start_time": null,
     "status": "pending"
    },
    "tags": []
   },
   "outputs": [],
   "source": [
    "# Define the federated data loading function\n",
    "def load_data_for_federated_learning(client_ids):\n",
    "  # Load the data for each client and create a federated dataset\n",
    "  federated_data = tff.simulation.datasets.ClientData.from_clients_and_fn(\n",
    "      client_ids=client_ids,\n",
    "      create_tf_dataset_for_client_fn=lambda client_id: load_data_for_client(client_id)\n",
    "  )\n",
    "\n",
    "  return federated_data"
   ]
  },
  {
   "cell_type": "code",
   "execution_count": null,
   "id": "550f8932",
   "metadata": {
    "execution": {
     "iopub.status.busy": "2023-03-02T05:20:58.660519Z",
     "iopub.status.idle": "2023-03-02T05:20:58.660867Z",
     "shell.execute_reply": "2023-03-02T05:20:58.660725Z",
     "shell.execute_reply.started": "2023-03-02T05:20:58.660707Z"
    },
    "papermill": {
     "duration": null,
     "end_time": null,
     "exception": null,
     "start_time": null,
     "status": "pending"
    },
    "tags": []
   },
   "outputs": [],
   "source": [
    "# Define the preprocessing function\n",
    "def preprocess_data(data):\n",
    "  # Perform data preprocessing steps, such as normalization, feature engineering, etc.\n",
    "  return data\n",
    "\n"
   ]
  },
  {
   "cell_type": "code",
   "execution_count": null,
   "id": "bc9cd961",
   "metadata": {
    "execution": {
     "iopub.status.busy": "2023-03-02T05:20:58.662804Z",
     "iopub.status.idle": "2023-03-02T05:20:58.663388Z",
     "shell.execute_reply": "2023-03-02T05:20:58.663149Z",
     "shell.execute_reply.started": "2023-03-02T05:20:58.663127Z"
    },
    "papermill": {
     "duration": null,
     "end_time": null,
     "exception": null,
     "start_time": null,
     "status": "pending"
    },
    "tags": []
   },
   "outputs": [],
   "source": [
    "# Define the federated data preprocessing function\n",
    "def preprocess_data_for_federated_learning(client_ids):\n",
    "  # Load the data for each client and perform preprocessing steps\n",
    "  preprocessed_data = {}\n",
    "  for client_id in client_ids:\n",
    "    data = load_data_from_file(client_id + 'phishing-data.csv')\n",
    "    preprocessed_data[client_id] = preprocess_data(data)\n",
    "\n",
    "  return preprocessed_data"
   ]
  },
  {
   "cell_type": "markdown",
   "id": "3bd7e556",
   "metadata": {
    "papermill": {
     "duration": null,
     "end_time": null,
     "exception": null,
     "start_time": null,
     "status": "pending"
    },
    "tags": []
   },
   "source": [
    "## Model Training"
   ]
  },
  {
   "cell_type": "code",
   "execution_count": null,
   "id": "e3bf9b6f",
   "metadata": {
    "execution": {
     "iopub.status.busy": "2023-03-02T05:20:58.665638Z",
     "iopub.status.idle": "2023-03-02T05:20:58.666094Z",
     "shell.execute_reply": "2023-03-02T05:20:58.665937Z",
     "shell.execute_reply.started": "2023-03-02T05:20:58.665920Z"
    },
    "papermill": {
     "duration": null,
     "end_time": null,
     "exception": null,
     "start_time": null,
     "status": "pending"
    },
    "tags": []
   },
   "outputs": [],
   "source": [
    "import tensorflow as tf\n",
    "from tensorflow_federated import keras\n",
    "from tensorflow.keras.models import Sequential\n",
    "from tensorflow.keras.layers import Dense\n",
    "from tensorflow.keras import optimizers"
   ]
  },
  {
   "cell_type": "code",
   "execution_count": null,
   "id": "83bcb918",
   "metadata": {
    "execution": {
     "iopub.status.busy": "2023-03-02T05:20:58.666869Z",
     "iopub.status.idle": "2023-03-02T05:20:58.667177Z",
     "shell.execute_reply": "2023-03-02T05:20:58.667044Z",
     "shell.execute_reply.started": "2023-03-02T05:20:58.667029Z"
    },
    "papermill": {
     "duration": null,
     "end_time": null,
     "exception": null,
     "start_time": null,
     "status": "pending"
    },
    "tags": []
   },
   "outputs": [],
   "source": [
    "# Define the model\n",
    "# allows you to build a deep learning model by simply adding one layer at a time.\n",
    "model = Sequential([\n",
    "  Dense(32, activation='relu', input_shape=(input_size,)),\n",
    "  Dense(1, activation='sigmoid')\n",
    "])\n"
   ]
  },
  {
   "cell_type": "markdown",
   "id": "35604715",
   "metadata": {
    "papermill": {
     "duration": null,
     "end_time": null,
     "exception": null,
     "start_time": null,
     "status": "pending"
    },
    "tags": []
   },
   "source": []
  },
  {
   "cell_type": "code",
   "execution_count": null,
   "id": "d53bcd96",
   "metadata": {
    "execution": {
     "iopub.status.busy": "2023-03-02T05:20:58.668712Z",
     "iopub.status.idle": "2023-03-02T05:20:58.669014Z",
     "shell.execute_reply": "2023-03-02T05:20:58.668881Z",
     "shell.execute_reply.started": "2023-03-02T05:20:58.668866Z"
    },
    "papermill": {
     "duration": null,
     "end_time": null,
     "exception": null,
     "start_time": null,
     "status": "pending"
    },
    "tags": []
   },
   "outputs": [],
   "source": [
    "# Compile the model\n",
    "# binary cross entropy difference between the predicted output of a neural network and the true output.\n",
    "# optimization algorithm for training neural networks\n",
    "model.compile(\n",
    "  loss='binary_crossentropy',\n",
    "  optimizer=optimizers.SGD(learning_rate=0.01),\n",
    "  metrics=['accuracy']\n",
    ")\n"
   ]
  },
  {
   "cell_type": "code",
   "execution_count": null,
   "id": "185928f2",
   "metadata": {
    "execution": {
     "iopub.status.busy": "2023-03-02T05:20:58.669993Z",
     "iopub.status.idle": "2023-03-02T05:20:58.670310Z",
     "shell.execute_reply": "2023-03-02T05:20:58.670179Z",
     "shell.execute_reply.started": "2023-03-02T05:20:58.670157Z"
    },
    "papermill": {
     "duration": null,
     "end_time": null,
     "exception": null,
     "start_time": null,
     "status": "pending"
    },
    "tags": []
   },
   "outputs": [],
   "source": [
    "# Convert the model to a federated model\n",
    "federated_model = keras.models.clone_model(model)\n",
    "federated_model = keras.layers.TimeDistributed(federated_model)"
   ]
  },
  {
   "cell_type": "code",
   "execution_count": null,
   "id": "d32c95d1",
   "metadata": {
    "execution": {
     "iopub.status.busy": "2023-03-02T05:20:58.671429Z",
     "iopub.status.idle": "2023-03-02T05:20:58.671752Z",
     "shell.execute_reply": "2023-03-02T05:20:58.671612Z",
     "shell.execute_reply.started": "2023-03-02T05:20:58.671596Z"
    },
    "papermill": {
     "duration": null,
     "end_time": null,
     "exception": null,
     "start_time": null,
     "status": "pending"
    },
    "tags": []
   },
   "outputs": [],
   "source": [
    "# Define the training algorithm\n",
    "# TrainOneEpoch defines the training algorithm \n",
    "trainer = keras.TrainOneEpoch(model=federated_model, optimizer=optimizers.SGD(learning_rate=0.01))"
   ]
  },
  {
   "cell_type": "code",
   "execution_count": null,
   "id": "3896289e",
   "metadata": {
    "execution": {
     "iopub.status.busy": "2023-03-02T05:20:58.673214Z",
     "iopub.status.idle": "2023-03-02T05:20:58.673513Z",
     "shell.execute_reply": "2023-03-02T05:20:58.673380Z",
     "shell.execute_reply.started": "2023-03-02T05:20:58.673363Z"
    },
    "papermill": {
     "duration": null,
     "end_time": null,
     "exception": null,
     "start_time": null,
     "status": "pending"
    },
    "tags": []
   },
   "outputs": [],
   "source": [
    "\n",
    "# Train the model on the federated data\n",
    "federated_data = preprocess_data(data) # Preprocessed data\n",
    "for i in range(num_epochs):\n",
    "  federated_model = trainer(federated_model, federated_data)"
   ]
  },
  {
   "cell_type": "markdown",
   "id": "567e644d",
   "metadata": {
    "papermill": {
     "duration": null,
     "end_time": null,
     "exception": null,
     "start_time": null,
     "status": "pending"
    },
    "tags": []
   },
   "source": [
    "## MOdel Testing"
   ]
  },
  {
   "cell_type": "code",
   "execution_count": null,
   "id": "128b3ef3",
   "metadata": {
    "execution": {
     "iopub.status.busy": "2023-03-02T05:20:58.674555Z",
     "iopub.status.idle": "2023-03-02T05:20:58.674852Z",
     "shell.execute_reply": "2023-03-02T05:20:58.674723Z",
     "shell.execute_reply.started": "2023-03-02T05:20:58.674708Z"
    },
    "papermill": {
     "duration": null,
     "end_time": null,
     "exception": null,
     "start_time": null,
     "status": "pending"
    },
    "tags": []
   },
   "outputs": [],
   "source": [
    "# Evaluate the model on a separate dataset\n",
    "test_data = preprocess_data(test_data) # Preprocessed test data\n",
    "loss, accuracy = model.evaluate(test_data)\n",
    "print(f'Test loss: {loss}, Test accuracy: {accuracy}')\n"
   ]
  }
 ],
 "metadata": {
  "kernelspec": {
   "display_name": "Python 3",
   "language": "python",
   "name": "python3"
  },
  "language_info": {
   "codemirror_mode": {
    "name": "ipython",
    "version": 3
   },
   "file_extension": ".py",
   "mimetype": "text/x-python",
   "name": "python",
   "nbconvert_exporter": "python",
   "pygments_lexer": "ipython3",
   "version": "3.7.12"
  },
  "papermill": {
   "default_parameters": {},
   "duration": 161.288058,
   "end_time": "2023-03-02T07:38:56.299687",
   "environment_variables": {},
   "exception": true,
   "input_path": "__notebook__.ipynb",
   "output_path": "__notebook__.ipynb",
   "parameters": {},
   "start_time": "2023-03-02T07:36:15.011629",
   "version": "2.3.4"
  }
 },
 "nbformat": 4,
 "nbformat_minor": 5
}
